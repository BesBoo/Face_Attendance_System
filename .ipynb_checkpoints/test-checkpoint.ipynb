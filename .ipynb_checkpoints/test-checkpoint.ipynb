{
 "cells": [
  {
   "cell_type": "code",
   "execution_count": 5,
   "id": "c869741b",
   "metadata": {},
   "outputs": [
    {
     "name": "stdout",
     "output_type": "stream",
     "text": [
      "face_recognition version: 1.2.3\n",
      "dlib version: 19.24.99\n",
      "numpy version: 2.1.2\n"
     ]
    }
   ],
   "source": [
    "import face_recognition\n",
    "import dlib\n",
    "import numpy\n",
    "print(\"face_recognition version:\", face_recognition.__version__)\n",
    "print(\"dlib version:\", dlib.__version__)\n",
    "print(\"numpy version:\", numpy.__version__)"
   ]
  },
  {
   "cell_type": "code",
   "execution_count": 6,
   "id": "d96f3588",
   "metadata": {},
   "outputs": [
    {
     "name": "stdout",
     "output_type": "stream",
     "text": [
      "Test image shape: (480, 640, 3), dtype: uint8, min: 5, max: 255\n",
      "face_recognition error: Unsupported image type, must be 8bit gray or RGB image.\n"
     ]
    }
   ],
   "source": [
    "   import cv2\n",
    "   import face_recognition\n",
    "   import numpy as np\n",
    "\n",
    "   img = cv2.imread('data/images/user_1/face_1.jpg')\n",
    "   rgb_img = cv2.cvtColor(img, cv2.COLOR_BGR2RGB)\n",
    "   rgb_img = np.ascontiguousarray(rgb_img)\n",
    "   print(f\"Test image shape: {rgb_img.shape}, dtype: {rgb_img.dtype}, min: {rgb_img.min()}, max: {rgb_img.max()}\")\n",
    "   try:\n",
    "       locations = face_recognition.face_locations(rgb_img)\n",
    "       print(\"Face locations:\", locations)\n",
    "   except Exception as e:\n",
    "       print(\"face_recognition error:\", e)"
   ]
  }
 ],
 "metadata": {
  "kernelspec": {
   "display_name": "Python 3",
   "language": "python",
   "name": "python3"
  },
  "language_info": {
   "codemirror_mode": {
    "name": "ipython",
    "version": 3
   },
   "file_extension": ".py",
   "mimetype": "text/x-python",
   "name": "python",
   "nbconvert_exporter": "python",
   "pygments_lexer": "ipython3",
   "version": "3.12.5"
  }
 },
 "nbformat": 4,
 "nbformat_minor": 5
}
